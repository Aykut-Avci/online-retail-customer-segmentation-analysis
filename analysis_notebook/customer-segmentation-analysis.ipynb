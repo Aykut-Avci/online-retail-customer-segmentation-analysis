{
 "cells": [
  {
   "cell_type": "markdown",
   "id": "4436f078",
   "metadata": {},
   "source": [
    "# Customer Segmentation Analysis\n",
    "\n",
    "## Introduction \n",
    "\n",
    "In this analysis, we aim to segment customers based on their purchasing behaviour using an Online Retail dataset. Customer segmentation helps us to understand the characteristics of different groups of customers, allowing for the development of targeted marketing strategies that can significantly boost sales and enhance customer satisfaction. We will employ various clustering techniques to uncover these segments and provide actionable insights for the business.\n",
    "\n",
    "## Dataset\n",
    "\n",
    "The dataset contains transactions from a UK-based online retailer, including features such as `InvoiceNo`, `StockCode`, `Description`, `UnitPrice`,`Quantity`, `InvoiceDate`, ` CustomerID`, `Country` and It contains **1067371** data points. \n",
    "\n",
    "**Attribute Information:**\n",
    "\n",
    " - `InvoiceNo`: Invoice number. Nominal. A 6-digit integral number uniquely assigned to each transaction. If this code starts with the letter 'c', it   indicates a cancellation.\n",
    " - `StockCode`: Product (item) code. Nominal. A 5-digit integral number uniquely assigned to each distinct product.\n",
    " - `Description`: Product (item) name. Nominal.\n",
    " - `Quantity`: The quantities of each product (item) per transaction. Numeric.\n",
    " - `InvoiceDate`: Invoice date and time. Numeric. The day and time when a transaction was generated.\n",
    " - `UnitPrice`: Unit price. Numeric. Product price per unit in sterling (£).\n",
    " - `CustomerID`: Customer number. Nominal. A 5-digit integral number uniquely assigned to each customer.\n",
    " - `Country`: Country name. Nominal. The name of the country where a customer resides.\n",
    "\n",
    "## Objective\n",
    "\n",
    "1. Explore and preprocess the data: \n",
    "\n",
    "    - Explore and standardize the data \n",
    "    - Handle missing values\n",
    "    - Identify and manage outliers\n",
    "    \n",
    "\n",
    "2.  Use clustering techniques to segment customers\n",
    "\n",
    "3.  Analyze and interpret the resulting customer segments"
   ]
  },
  {
   "cell_type": "markdown",
   "id": "fd1e272c",
   "metadata": {},
   "source": [
    "## Loading Libraries"
   ]
  },
  {
   "cell_type": "code",
   "execution_count": 1,
   "id": "bbd0ca43",
   "metadata": {},
   "outputs": [],
   "source": [
    "import pandas as pd\n",
    "import numpy as np \n",
    "import matplotlib.pyplot as plt \n",
    "from sklearn.preprocessing import StandardScaler\n",
    "from sklearn.cluster import KMeans \n",
    "import seaborn as sns\n",
    "import statistics\n",
    "from statistics import mode\n",
    "import datetime as dt\n",
    "import warnings\n",
    "\n",
    "warnings.filterwarnings('ignore')"
   ]
  },
  {
   "cell_type": "markdown",
   "id": "610594e3",
   "metadata": {},
   "source": [
    "## Data Loading and Exploration\n",
    "\n",
    "In this section we load the dataset and perform an initial exploration to understand its structure and content."
   ]
  },
  {
   "cell_type": "code",
   "execution_count": 2,
   "id": "03f22c81",
   "metadata": {},
   "outputs": [],
   "source": [
    "df = pd.read_csv(r\"C:\\Users\\aykut\\data_analytics_projects\\customer_segmentation_analysis\\data\\online_retail_II.csv\")\n",
    "df = df.reset_index(drop=True)\n",
    "pd.options.display.float_format = '{:.2f}'.format"
   ]
  },
  {
   "cell_type": "code",
   "execution_count": 3,
   "id": "3a370be7",
   "metadata": {},
   "outputs": [],
   "source": [
    "df.columns = df.columns.str.lower()"
   ]
  },
  {
   "cell_type": "code",
   "execution_count": 4,
   "id": "a13f35af-fc65-4055-878f-b95b669659b9",
   "metadata": {},
   "outputs": [
    {
     "data": {
      "text/html": [
       "<div>\n",
       "<style scoped>\n",
       "    .dataframe tbody tr th:only-of-type {\n",
       "        vertical-align: middle;\n",
       "    }\n",
       "\n",
       "    .dataframe tbody tr th {\n",
       "        vertical-align: top;\n",
       "    }\n",
       "\n",
       "    .dataframe thead th {\n",
       "        text-align: right;\n",
       "    }\n",
       "</style>\n",
       "<table border=\"1\" class=\"dataframe\">\n",
       "  <thead>\n",
       "    <tr style=\"text-align: right;\">\n",
       "      <th></th>\n",
       "      <th>invoice</th>\n",
       "      <th>stockcode</th>\n",
       "      <th>description</th>\n",
       "      <th>quantity</th>\n",
       "      <th>invoicedate</th>\n",
       "      <th>price</th>\n",
       "      <th>customer id</th>\n",
       "      <th>country</th>\n",
       "    </tr>\n",
       "  </thead>\n",
       "  <tbody>\n",
       "    <tr>\n",
       "      <th>0</th>\n",
       "      <td>489434</td>\n",
       "      <td>85048</td>\n",
       "      <td>15CM CHRISTMAS GLASS BALL 20 LIGHTS</td>\n",
       "      <td>12</td>\n",
       "      <td>2009-12-01 07:45:00</td>\n",
       "      <td>6.95</td>\n",
       "      <td>13085.00</td>\n",
       "      <td>United Kingdom</td>\n",
       "    </tr>\n",
       "    <tr>\n",
       "      <th>1</th>\n",
       "      <td>489434</td>\n",
       "      <td>79323P</td>\n",
       "      <td>PINK CHERRY LIGHTS</td>\n",
       "      <td>12</td>\n",
       "      <td>2009-12-01 07:45:00</td>\n",
       "      <td>6.75</td>\n",
       "      <td>13085.00</td>\n",
       "      <td>United Kingdom</td>\n",
       "    </tr>\n",
       "    <tr>\n",
       "      <th>2</th>\n",
       "      <td>489434</td>\n",
       "      <td>79323W</td>\n",
       "      <td>WHITE CHERRY LIGHTS</td>\n",
       "      <td>12</td>\n",
       "      <td>2009-12-01 07:45:00</td>\n",
       "      <td>6.75</td>\n",
       "      <td>13085.00</td>\n",
       "      <td>United Kingdom</td>\n",
       "    </tr>\n",
       "    <tr>\n",
       "      <th>3</th>\n",
       "      <td>489434</td>\n",
       "      <td>22041</td>\n",
       "      <td>RECORD FRAME 7\" SINGLE SIZE</td>\n",
       "      <td>48</td>\n",
       "      <td>2009-12-01 07:45:00</td>\n",
       "      <td>2.10</td>\n",
       "      <td>13085.00</td>\n",
       "      <td>United Kingdom</td>\n",
       "    </tr>\n",
       "    <tr>\n",
       "      <th>4</th>\n",
       "      <td>489434</td>\n",
       "      <td>21232</td>\n",
       "      <td>STRAWBERRY CERAMIC TRINKET BOX</td>\n",
       "      <td>24</td>\n",
       "      <td>2009-12-01 07:45:00</td>\n",
       "      <td>1.25</td>\n",
       "      <td>13085.00</td>\n",
       "      <td>United Kingdom</td>\n",
       "    </tr>\n",
       "  </tbody>\n",
       "</table>\n",
       "</div>"
      ],
      "text/plain": [
       "  invoice stockcode                          description  quantity  \\\n",
       "0  489434     85048  15CM CHRISTMAS GLASS BALL 20 LIGHTS        12   \n",
       "1  489434    79323P                   PINK CHERRY LIGHTS        12   \n",
       "2  489434    79323W                  WHITE CHERRY LIGHTS        12   \n",
       "3  489434     22041         RECORD FRAME 7\" SINGLE SIZE         48   \n",
       "4  489434     21232       STRAWBERRY CERAMIC TRINKET BOX        24   \n",
       "\n",
       "           invoicedate  price  customer id         country  \n",
       "0  2009-12-01 07:45:00   6.95     13085.00  United Kingdom  \n",
       "1  2009-12-01 07:45:00   6.75     13085.00  United Kingdom  \n",
       "2  2009-12-01 07:45:00   6.75     13085.00  United Kingdom  \n",
       "3  2009-12-01 07:45:00   2.10     13085.00  United Kingdom  \n",
       "4  2009-12-01 07:45:00   1.25     13085.00  United Kingdom  "
      ]
     },
     "execution_count": 4,
     "metadata": {},
     "output_type": "execute_result"
    }
   ],
   "source": [
    "df.head()"
   ]
  },
  {
   "cell_type": "code",
   "execution_count": 5,
   "id": "f4ecf92b",
   "metadata": {},
   "outputs": [
    {
     "name": "stdout",
     "output_type": "stream",
     "text": [
      "<class 'pandas.core.frame.DataFrame'>\n",
      "RangeIndex: 1067371 entries, 0 to 1067370\n",
      "Data columns (total 8 columns):\n",
      " #   Column       Non-Null Count    Dtype  \n",
      "---  ------       --------------    -----  \n",
      " 0   invoice      1067371 non-null  object \n",
      " 1   stockcode    1067371 non-null  object \n",
      " 2   description  1062989 non-null  object \n",
      " 3   quantity     1067371 non-null  int64  \n",
      " 4   invoicedate  1067371 non-null  object \n",
      " 5   price        1067371 non-null  float64\n",
      " 6   customer id  824364 non-null   float64\n",
      " 7   country      1067371 non-null  object \n",
      "dtypes: float64(2), int64(1), object(5)\n",
      "memory usage: 65.1+ MB\n"
     ]
    }
   ],
   "source": [
    "df.info()"
   ]
  },
  {
   "cell_type": "code",
   "execution_count": 6,
   "id": "1aa30f72-1c6b-401f-afd6-5acb9676d697",
   "metadata": {},
   "outputs": [
    {
     "data": {
      "text/html": [
       "<div>\n",
       "<style scoped>\n",
       "    .dataframe tbody tr th:only-of-type {\n",
       "        vertical-align: middle;\n",
       "    }\n",
       "\n",
       "    .dataframe tbody tr th {\n",
       "        vertical-align: top;\n",
       "    }\n",
       "\n",
       "    .dataframe thead th {\n",
       "        text-align: right;\n",
       "    }\n",
       "</style>\n",
       "<table border=\"1\" class=\"dataframe\">\n",
       "  <thead>\n",
       "    <tr style=\"text-align: right;\">\n",
       "      <th></th>\n",
       "      <th>quantity</th>\n",
       "      <th>price</th>\n",
       "      <th>customer id</th>\n",
       "    </tr>\n",
       "  </thead>\n",
       "  <tbody>\n",
       "    <tr>\n",
       "      <th>count</th>\n",
       "      <td>1067371.00</td>\n",
       "      <td>1067371.00</td>\n",
       "      <td>824364.00</td>\n",
       "    </tr>\n",
       "    <tr>\n",
       "      <th>mean</th>\n",
       "      <td>9.94</td>\n",
       "      <td>4.65</td>\n",
       "      <td>15324.64</td>\n",
       "    </tr>\n",
       "    <tr>\n",
       "      <th>std</th>\n",
       "      <td>172.71</td>\n",
       "      <td>123.55</td>\n",
       "      <td>1697.46</td>\n",
       "    </tr>\n",
       "    <tr>\n",
       "      <th>min</th>\n",
       "      <td>-80995.00</td>\n",
       "      <td>-53594.36</td>\n",
       "      <td>12346.00</td>\n",
       "    </tr>\n",
       "    <tr>\n",
       "      <th>25%</th>\n",
       "      <td>1.00</td>\n",
       "      <td>1.25</td>\n",
       "      <td>13975.00</td>\n",
       "    </tr>\n",
       "    <tr>\n",
       "      <th>50%</th>\n",
       "      <td>3.00</td>\n",
       "      <td>2.10</td>\n",
       "      <td>15255.00</td>\n",
       "    </tr>\n",
       "    <tr>\n",
       "      <th>75%</th>\n",
       "      <td>10.00</td>\n",
       "      <td>4.15</td>\n",
       "      <td>16797.00</td>\n",
       "    </tr>\n",
       "    <tr>\n",
       "      <th>max</th>\n",
       "      <td>80995.00</td>\n",
       "      <td>38970.00</td>\n",
       "      <td>18287.00</td>\n",
       "    </tr>\n",
       "  </tbody>\n",
       "</table>\n",
       "</div>"
      ],
      "text/plain": [
       "        quantity      price  customer id\n",
       "count 1067371.00 1067371.00    824364.00\n",
       "mean        9.94       4.65     15324.64\n",
       "std       172.71     123.55      1697.46\n",
       "min    -80995.00  -53594.36     12346.00\n",
       "25%         1.00       1.25     13975.00\n",
       "50%         3.00       2.10     15255.00\n",
       "75%        10.00       4.15     16797.00\n",
       "max     80995.00   38970.00     18287.00"
      ]
     },
     "execution_count": 6,
     "metadata": {},
     "output_type": "execute_result"
    }
   ],
   "source": [
    "df.describe()"
   ]
  },
  {
   "cell_type": "code",
   "execution_count": 7,
   "id": "672c78e0-1eaf-42e6-aa8f-540958be51cc",
   "metadata": {},
   "outputs": [],
   "source": [
    "df.rename(columns={'customer id':'customerid'},inplace=True)"
   ]
  },
  {
   "cell_type": "code",
   "execution_count": 8,
   "id": "fea3bef0-e071-4030-8be6-4ff60a7a251d",
   "metadata": {},
   "outputs": [],
   "source": [
    "df['invoicedate'] = pd.to_datetime(df['invoicedate'])"
   ]
  },
  {
   "cell_type": "markdown",
   "id": "daa71fb6",
   "metadata": {},
   "source": [
    "## Data Cleaning "
   ]
  },
  {
   "cell_type": "code",
   "execution_count": 9,
   "id": "d330cdd8-d1e5-40f8-8cd8-21ae222f41c6",
   "metadata": {},
   "outputs": [],
   "source": [
    "#We have nulls in description and customerid columns, quantity column has minus values which mostly belongs to cancelled orders."
   ]
  },
  {
   "cell_type": "code",
   "execution_count": 10,
   "id": "27f9111b",
   "metadata": {},
   "outputs": [
    {
     "name": "stdout",
     "output_type": "stream",
     "text": [
      "proportion of missing customerid:22.77%\n"
     ]
    }
   ],
   "source": [
    "missing_customer_id_proportion = len(df[df['customerid'].isna()])/len(df)\n",
    "print(f\"proportion of missing customerid:{missing_customer_id_proportion:.2%}\")\n",
    "\n",
    "# Note: 22.77% of the rows have missing customerid, which is significant but they are not useful in our analysis. "
   ]
  },
  {
   "cell_type": "code",
   "execution_count": 11,
   "id": "208f227c",
   "metadata": {},
   "outputs": [],
   "source": [
    "df = df[~df['customerid'].isna()] #Remove records with null customerid\n"
   ]
  },
  {
   "cell_type": "code",
   "execution_count": 12,
   "id": "7ecff0d6-7c12-453a-a8e3-d4d85901bd10",
   "metadata": {},
   "outputs": [
    {
     "name": "stdout",
     "output_type": "stream",
     "text": [
      "<class 'pandas.core.frame.DataFrame'>\n",
      "Int64Index: 824364 entries, 0 to 1067370\n",
      "Data columns (total 8 columns):\n",
      " #   Column       Non-Null Count   Dtype         \n",
      "---  ------       --------------   -----         \n",
      " 0   invoice      824364 non-null  object        \n",
      " 1   stockcode    824364 non-null  object        \n",
      " 2   description  824364 non-null  object        \n",
      " 3   quantity     824364 non-null  int64         \n",
      " 4   invoicedate  824364 non-null  datetime64[ns]\n",
      " 5   price        824364 non-null  float64       \n",
      " 6   customerid   824364 non-null  float64       \n",
      " 7   country      824364 non-null  object        \n",
      "dtypes: datetime64[ns](1), float64(2), int64(1), object(4)\n",
      "memory usage: 56.6+ MB\n"
     ]
    }
   ],
   "source": [
    "df.info() #None of the variable has null values. "
   ]
  },
  {
   "cell_type": "code",
   "execution_count": 13,
   "id": "9d797c85",
   "metadata": {},
   "outputs": [],
   "source": [
    "df['customerid'] = df['customerid'].apply(lambda x: str(int(x)) if isinstance(x,float) else x)\n",
    "\n",
    "# Converting customerid column to string "
   ]
  },
  {
   "cell_type": "code",
   "execution_count": 14,
   "id": "fc0501aa",
   "metadata": {},
   "outputs": [
    {
     "name": "stdout",
     "output_type": "stream",
     "text": [
      "size of original dataset: 824364\n",
      "size of dataset after dropping duplicates: 797885\n"
     ]
    }
   ],
   "source": [
    "df_clean = df.drop_duplicates()\n",
    "\n",
    "print(f'size of original dataset: {len(df)}')\n",
    "\n",
    "print(f'size of dataset after dropping duplicates: {len(df_clean)}')\n",
    "\n",
    "\n"
   ]
  },
  {
   "cell_type": "code",
   "execution_count": 15,
   "id": "c91bd59d-65be-413e-8059-1950a8ec1a70",
   "metadata": {},
   "outputs": [
    {
     "data": {
      "text/plain": [
       "[]"
      ]
     },
     "execution_count": 15,
     "metadata": {},
     "output_type": "execute_result"
    }
   ],
   "source": [
    "cancelled_invoices = df[df['invoice'].str.startswith('C')]['invoice'].str[1:]\n",
    "not_cancelled_invoices = set(df[~df['invoice'].str.startswith('C')]['invoice'])\n",
    "\n",
    "matching_invoice = list(cancelled_invoices[cancelled_invoices.isin(not_cancelled_invoices)])\n",
    "matching_invoice\n",
    "\n",
    "# This code checks if there is a matching invoice number for cancelled invoices, there is no matching invoice numbers but we will keep cancelled orders to analyze customer behaviour. "
   ]
  },
  {
   "cell_type": "code",
   "execution_count": 16,
   "id": "5970d185-7966-4f06-bd89-b6606c073a08",
   "metadata": {},
   "outputs": [
    {
     "data": {
      "text/html": [
       "<div>\n",
       "<style scoped>\n",
       "    .dataframe tbody tr th:only-of-type {\n",
       "        vertical-align: middle;\n",
       "    }\n",
       "\n",
       "    .dataframe tbody tr th {\n",
       "        vertical-align: top;\n",
       "    }\n",
       "\n",
       "    .dataframe thead th {\n",
       "        text-align: right;\n",
       "    }\n",
       "</style>\n",
       "<table border=\"1\" class=\"dataframe\">\n",
       "  <thead>\n",
       "    <tr style=\"text-align: right;\">\n",
       "      <th></th>\n",
       "      <th>invoice</th>\n",
       "      <th>stockcode</th>\n",
       "      <th>description</th>\n",
       "      <th>quantity</th>\n",
       "      <th>invoicedate</th>\n",
       "      <th>price</th>\n",
       "      <th>customerid</th>\n",
       "      <th>country</th>\n",
       "    </tr>\n",
       "  </thead>\n",
       "  <tbody>\n",
       "  </tbody>\n",
       "</table>\n",
       "</div>"
      ],
      "text/plain": [
       "Empty DataFrame\n",
       "Columns: [invoice, stockcode, description, quantity, invoicedate, price, customerid, country]\n",
       "Index: []"
      ]
     },
     "execution_count": 16,
     "metadata": {},
     "output_type": "execute_result"
    }
   ],
   "source": [
    "df[(df['quantity'] < 0) & (~ df['invoice'].str.startswith('C'))] \n",
    "\n",
    "#Only cancelled orders have negative quantities, which is expected. "
   ]
  },
  {
   "cell_type": "code",
   "execution_count": 17,
   "id": "c41ee45b-fbd0-411e-8ec6-a33838e0c343",
   "metadata": {},
   "outputs": [
    {
     "name": "stdout",
     "output_type": "stream",
     "text": [
      "<class 'pandas.core.frame.DataFrame'>\n",
      "Int64Index: 824364 entries, 0 to 1067370\n",
      "Data columns (total 8 columns):\n",
      " #   Column       Non-Null Count   Dtype         \n",
      "---  ------       --------------   -----         \n",
      " 0   invoice      824364 non-null  object        \n",
      " 1   stockcode    824364 non-null  object        \n",
      " 2   description  824364 non-null  object        \n",
      " 3   quantity     824364 non-null  int64         \n",
      " 4   invoicedate  824364 non-null  datetime64[ns]\n",
      " 5   price        824364 non-null  float64       \n",
      " 6   customerid   824364 non-null  object        \n",
      " 7   country      824364 non-null  object        \n",
      "dtypes: datetime64[ns](1), float64(1), int64(1), object(5)\n",
      "memory usage: 56.6+ MB\n"
     ]
    }
   ],
   "source": [
    "df.info()"
   ]
  },
  {
   "cell_type": "code",
   "execution_count": 18,
   "id": "c04e3150-47ad-429f-9c40-dff3a299c189",
   "metadata": {},
   "outputs": [
    {
     "data": {
      "text/html": [
       "<div>\n",
       "<style scoped>\n",
       "    .dataframe tbody tr th:only-of-type {\n",
       "        vertical-align: middle;\n",
       "    }\n",
       "\n",
       "    .dataframe tbody tr th {\n",
       "        vertical-align: top;\n",
       "    }\n",
       "\n",
       "    .dataframe thead th {\n",
       "        text-align: right;\n",
       "    }\n",
       "</style>\n",
       "<table border=\"1\" class=\"dataframe\">\n",
       "  <thead>\n",
       "    <tr style=\"text-align: right;\">\n",
       "      <th></th>\n",
       "      <th>invoice</th>\n",
       "      <th>stockcode</th>\n",
       "      <th>description</th>\n",
       "      <th>quantity</th>\n",
       "      <th>invoicedate</th>\n",
       "      <th>price</th>\n",
       "      <th>customerid</th>\n",
       "      <th>country</th>\n",
       "    </tr>\n",
       "  </thead>\n",
       "  <tbody>\n",
       "    <tr>\n",
       "      <th>178</th>\n",
       "      <td>C489449</td>\n",
       "      <td>22087</td>\n",
       "      <td>PAPER BUNTING WHITE LACE</td>\n",
       "      <td>-12</td>\n",
       "      <td>2009-12-01 10:33:00</td>\n",
       "      <td>2.95</td>\n",
       "      <td>16321</td>\n",
       "      <td>Australia</td>\n",
       "    </tr>\n",
       "    <tr>\n",
       "      <th>179</th>\n",
       "      <td>C489449</td>\n",
       "      <td>85206A</td>\n",
       "      <td>CREAM FELT EASTER EGG BASKET</td>\n",
       "      <td>-6</td>\n",
       "      <td>2009-12-01 10:33:00</td>\n",
       "      <td>1.65</td>\n",
       "      <td>16321</td>\n",
       "      <td>Australia</td>\n",
       "    </tr>\n",
       "    <tr>\n",
       "      <th>180</th>\n",
       "      <td>C489449</td>\n",
       "      <td>21895</td>\n",
       "      <td>POTTING SHED SOW 'N' GROW SET</td>\n",
       "      <td>-4</td>\n",
       "      <td>2009-12-01 10:33:00</td>\n",
       "      <td>4.25</td>\n",
       "      <td>16321</td>\n",
       "      <td>Australia</td>\n",
       "    </tr>\n",
       "    <tr>\n",
       "      <th>181</th>\n",
       "      <td>C489449</td>\n",
       "      <td>21896</td>\n",
       "      <td>POTTING SHED TWINE</td>\n",
       "      <td>-6</td>\n",
       "      <td>2009-12-01 10:33:00</td>\n",
       "      <td>2.10</td>\n",
       "      <td>16321</td>\n",
       "      <td>Australia</td>\n",
       "    </tr>\n",
       "    <tr>\n",
       "      <th>182</th>\n",
       "      <td>C489449</td>\n",
       "      <td>22083</td>\n",
       "      <td>PAPER CHAIN KIT RETRO SPOT</td>\n",
       "      <td>-12</td>\n",
       "      <td>2009-12-01 10:33:00</td>\n",
       "      <td>2.95</td>\n",
       "      <td>16321</td>\n",
       "      <td>Australia</td>\n",
       "    </tr>\n",
       "    <tr>\n",
       "      <th>...</th>\n",
       "      <td>...</td>\n",
       "      <td>...</td>\n",
       "      <td>...</td>\n",
       "      <td>...</td>\n",
       "      <td>...</td>\n",
       "      <td>...</td>\n",
       "      <td>...</td>\n",
       "      <td>...</td>\n",
       "    </tr>\n",
       "    <tr>\n",
       "      <th>1065910</th>\n",
       "      <td>C581490</td>\n",
       "      <td>23144</td>\n",
       "      <td>ZINC T-LIGHT HOLDER STARS SMALL</td>\n",
       "      <td>-11</td>\n",
       "      <td>2011-12-09 09:57:00</td>\n",
       "      <td>0.83</td>\n",
       "      <td>14397</td>\n",
       "      <td>United Kingdom</td>\n",
       "    </tr>\n",
       "    <tr>\n",
       "      <th>1067002</th>\n",
       "      <td>C581499</td>\n",
       "      <td>M</td>\n",
       "      <td>Manual</td>\n",
       "      <td>-1</td>\n",
       "      <td>2011-12-09 10:28:00</td>\n",
       "      <td>224.69</td>\n",
       "      <td>15498</td>\n",
       "      <td>United Kingdom</td>\n",
       "    </tr>\n",
       "    <tr>\n",
       "      <th>1067176</th>\n",
       "      <td>C581568</td>\n",
       "      <td>21258</td>\n",
       "      <td>VICTORIAN SEWING BOX LARGE</td>\n",
       "      <td>-5</td>\n",
       "      <td>2011-12-09 11:57:00</td>\n",
       "      <td>10.95</td>\n",
       "      <td>15311</td>\n",
       "      <td>United Kingdom</td>\n",
       "    </tr>\n",
       "    <tr>\n",
       "      <th>1067177</th>\n",
       "      <td>C581569</td>\n",
       "      <td>84978</td>\n",
       "      <td>HANGING HEART JAR T-LIGHT HOLDER</td>\n",
       "      <td>-1</td>\n",
       "      <td>2011-12-09 11:58:00</td>\n",
       "      <td>1.25</td>\n",
       "      <td>17315</td>\n",
       "      <td>United Kingdom</td>\n",
       "    </tr>\n",
       "    <tr>\n",
       "      <th>1067178</th>\n",
       "      <td>C581569</td>\n",
       "      <td>20979</td>\n",
       "      <td>36 PENCILS TUBE RED RETROSPOT</td>\n",
       "      <td>-5</td>\n",
       "      <td>2011-12-09 11:58:00</td>\n",
       "      <td>1.25</td>\n",
       "      <td>17315</td>\n",
       "      <td>United Kingdom</td>\n",
       "    </tr>\n",
       "  </tbody>\n",
       "</table>\n",
       "<p>18744 rows × 8 columns</p>\n",
       "</div>"
      ],
      "text/plain": [
       "         invoice stockcode                       description  quantity  \\\n",
       "178      C489449     22087          PAPER BUNTING WHITE LACE       -12   \n",
       "179      C489449    85206A      CREAM FELT EASTER EGG BASKET        -6   \n",
       "180      C489449     21895     POTTING SHED SOW 'N' GROW SET        -4   \n",
       "181      C489449     21896                POTTING SHED TWINE        -6   \n",
       "182      C489449     22083        PAPER CHAIN KIT RETRO SPOT       -12   \n",
       "...          ...       ...                               ...       ...   \n",
       "1065910  C581490     23144   ZINC T-LIGHT HOLDER STARS SMALL       -11   \n",
       "1067002  C581499         M                            Manual        -1   \n",
       "1067176  C581568     21258        VICTORIAN SEWING BOX LARGE        -5   \n",
       "1067177  C581569     84978  HANGING HEART JAR T-LIGHT HOLDER        -1   \n",
       "1067178  C581569     20979     36 PENCILS TUBE RED RETROSPOT        -5   \n",
       "\n",
       "                invoicedate  price customerid         country  \n",
       "178     2009-12-01 10:33:00   2.95      16321       Australia  \n",
       "179     2009-12-01 10:33:00   1.65      16321       Australia  \n",
       "180     2009-12-01 10:33:00   4.25      16321       Australia  \n",
       "181     2009-12-01 10:33:00   2.10      16321       Australia  \n",
       "182     2009-12-01 10:33:00   2.95      16321       Australia  \n",
       "...                     ...    ...        ...             ...  \n",
       "1065910 2011-12-09 09:57:00   0.83      14397  United Kingdom  \n",
       "1067002 2011-12-09 10:28:00 224.69      15498  United Kingdom  \n",
       "1067176 2011-12-09 11:57:00  10.95      15311  United Kingdom  \n",
       "1067177 2011-12-09 11:58:00   1.25      17315  United Kingdom  \n",
       "1067178 2011-12-09 11:58:00   1.25      17315  United Kingdom  \n",
       "\n",
       "[18744 rows x 8 columns]"
      ]
     },
     "execution_count": 18,
     "metadata": {},
     "output_type": "execute_result"
    }
   ],
   "source": [
    "df[df['quantity'] < 0]"
   ]
  },
  {
   "cell_type": "code",
   "execution_count": 19,
   "id": "9781f993-7bfb-4827-917a-7f471b825260",
   "metadata": {},
   "outputs": [],
   "source": [
    "#df.to_csv(r\"C:\\Users\\aykut\\data_analytics_projects\\customer_segmentation_analysis\\data\\clean_data.csv\")"
   ]
  },
  {
   "cell_type": "code",
   "execution_count": 20,
   "id": "7dfa7269-cc86-4139-b2ab-919a62e91136",
   "metadata": {},
   "outputs": [],
   "source": [
    "df_cancelled = df[df['invoice'].str.startswith('C')]\n",
    "\n",
    "#We omit cancelled orders from the RFM Analysis, since we evaluate customer value based on completed transactions\n",
    "\n",
    "df_compl = df[~df['invoice'].str.startswith('C')]"
   ]
  },
  {
   "cell_type": "code",
   "execution_count": 21,
   "id": "1be341af-d75c-423c-9920-3c77bdff135e",
   "metadata": {},
   "outputs": [
    {
     "name": "stdout",
     "output_type": "stream",
     "text": [
      "2511 customers both made a purchase and cancelled another purchase\n"
     ]
    }
   ],
   "source": [
    "cancelled_customers = set(df[df['quantity'] <0 ]['customerid'])\n",
    "purchased_customers = set(df_compl['customerid'])\n",
    "no_customers_purchased_cancelled = len(cancelled_customers.intersection(purchased_customers))\n",
    "\n",
    "print('{} customers both made a purchase and cancelled another purchase'.format(no_customers_purchased_cancelled))"
   ]
  },
  {
   "cell_type": "code",
   "execution_count": 22,
   "id": "eaf8d008-324f-46c8-8335-96d038aa9b6a",
   "metadata": {},
   "outputs": [
    {
     "name": "stdout",
     "output_type": "stream",
     "text": [
      "There are 71 rows with 0 price entries\n"
     ]
    }
   ],
   "source": [
    "df_compl.describe() \n",
    "\n",
    "no_stockcode_with_zero_price = len(df_compl[df_compl['price'] == 0])\n",
    "\n",
    "print('There are {} rows with 0 price entries'.format(no_stockcode_with_zero_price)) #71 rows have 0 price "
   ]
  },
  {
   "cell_type": "code",
   "execution_count": 23,
   "id": "bb63cc7c-9cd7-4f2c-9992-00afb713fe72",
   "metadata": {},
   "outputs": [],
   "source": [
    "df_compl = df_compl[df_compl['price'] != 0]"
   ]
  },
  {
   "cell_type": "markdown",
   "id": "45985bd1",
   "metadata": {},
   "source": [
    "## Define Reference Date and RFM Metrics \n"
   ]
  },
  {
   "cell_type": "code",
   "execution_count": 24,
   "id": "4faf06f8-9c44-4707-a6d8-adefdec8c0fa",
   "metadata": {},
   "outputs": [],
   "source": [
    "df_compl['total_price'] = df['quantity']*df['price']"
   ]
  },
  {
   "cell_type": "code",
   "execution_count": 25,
   "id": "0affc0e1-1029-4764-96be-d97f62229251",
   "metadata": {},
   "outputs": [
    {
     "data": {
      "text/html": [
       "<div>\n",
       "<style scoped>\n",
       "    .dataframe tbody tr th:only-of-type {\n",
       "        vertical-align: middle;\n",
       "    }\n",
       "\n",
       "    .dataframe tbody tr th {\n",
       "        vertical-align: top;\n",
       "    }\n",
       "\n",
       "    .dataframe thead th {\n",
       "        text-align: right;\n",
       "    }\n",
       "</style>\n",
       "<table border=\"1\" class=\"dataframe\">\n",
       "  <thead>\n",
       "    <tr style=\"text-align: right;\">\n",
       "      <th></th>\n",
       "      <th>quantity</th>\n",
       "      <th>price</th>\n",
       "      <th>total_price</th>\n",
       "    </tr>\n",
       "  </thead>\n",
       "  <tbody>\n",
       "    <tr>\n",
       "      <th>count</th>\n",
       "      <td>805549.00</td>\n",
       "      <td>805549.00</td>\n",
       "      <td>805549.00</td>\n",
       "    </tr>\n",
       "    <tr>\n",
       "      <th>mean</th>\n",
       "      <td>13.29</td>\n",
       "      <td>3.21</td>\n",
       "      <td>22.03</td>\n",
       "    </tr>\n",
       "    <tr>\n",
       "      <th>std</th>\n",
       "      <td>143.63</td>\n",
       "      <td>29.20</td>\n",
       "      <td>224.04</td>\n",
       "    </tr>\n",
       "    <tr>\n",
       "      <th>min</th>\n",
       "      <td>1.00</td>\n",
       "      <td>0.00</td>\n",
       "      <td>0.00</td>\n",
       "    </tr>\n",
       "    <tr>\n",
       "      <th>25%</th>\n",
       "      <td>2.00</td>\n",
       "      <td>1.25</td>\n",
       "      <td>4.95</td>\n",
       "    </tr>\n",
       "    <tr>\n",
       "      <th>50%</th>\n",
       "      <td>5.00</td>\n",
       "      <td>1.95</td>\n",
       "      <td>11.85</td>\n",
       "    </tr>\n",
       "    <tr>\n",
       "      <th>75%</th>\n",
       "      <td>12.00</td>\n",
       "      <td>3.75</td>\n",
       "      <td>19.50</td>\n",
       "    </tr>\n",
       "    <tr>\n",
       "      <th>max</th>\n",
       "      <td>80995.00</td>\n",
       "      <td>10953.50</td>\n",
       "      <td>168469.60</td>\n",
       "    </tr>\n",
       "  </tbody>\n",
       "</table>\n",
       "</div>"
      ],
      "text/plain": [
       "       quantity     price  total_price\n",
       "count 805549.00 805549.00    805549.00\n",
       "mean      13.29      3.21        22.03\n",
       "std      143.63     29.20       224.04\n",
       "min        1.00      0.00         0.00\n",
       "25%        2.00      1.25         4.95\n",
       "50%        5.00      1.95        11.85\n",
       "75%       12.00      3.75        19.50\n",
       "max    80995.00  10953.50    168469.60"
      ]
     },
     "execution_count": 25,
     "metadata": {},
     "output_type": "execute_result"
    }
   ],
   "source": [
    "df_compl.describe()"
   ]
  },
  {
   "cell_type": "code",
   "execution_count": 26,
   "id": "2b98b2a1",
   "metadata": {},
   "outputs": [],
   "source": [
    "#Defining reference date\n",
    "\n",
    "\n",
    "\n",
    "reference_date = df['invoicedate'].max() + dt.timedelta(days=1)\n",
    "\n",
    "df_recency = df_compl.groupby('customerid').agg({'invoicedate': lambda x: (reference_date - x.max()).days}).reset_index()\n",
    "\n",
    "df_recency.columns = ['customerid', 'recency']\n",
    "\n",
    "df_frequency = df_compl.groupby('customerid').agg({'invoice': 'nunique'}).reset_index()\n",
    "\n",
    "df_frequency.columns = ['customerid', 'frequency']\n",
    "\n",
    "df_monetary = df_compl.groupby('customerid').agg({'total_price':'sum'}).reset_index()\n",
    "\n",
    "df_monetary.columns = ['customerid','monetary']"
   ]
  },
  {
   "cell_type": "code",
   "execution_count": 27,
   "id": "2670f88a-9e60-4e99-b252-3a628dc4a934",
   "metadata": {},
   "outputs": [],
   "source": [
    "df_rfm = pd.merge(df_recency, df_frequency,on='customerid')\n",
    "df_rfm = df_rfm.merge(df_monetary,on='customerid')"
   ]
  },
  {
   "cell_type": "markdown",
   "id": "64613c2b-1ec6-4043-9c9e-dbb242286a20",
   "metadata": {},
   "source": [
    "## Segmentation Based on RFM Score "
   ]
  },
  {
   "cell_type": "code",
   "execution_count": 28,
   "id": "718aa1aa-dc89-432a-a29c-5fd7ca027905",
   "metadata": {},
   "outputs": [],
   "source": [
    "#Ranking customers based on recency, frequency and monetary \n",
    "\n",
    "\n",
    "df_rfm['r_score'] = pd.qcut(df_rfm['recency'],5,labels=[5,4,3,2,1])\n",
    "\n",
    "np.percentile(df_rfm['frequency'],[25,50,75,90])  #90% of the freq scores are below 13, we can define bin_edges as [0,1,3,7,13,df_rfm['frequency'].max()]\n",
    "\n",
    "bin_edges = [0,1,3,7,13,df_rfm['frequency'].max()]\n",
    "\n",
    "\n",
    "\n",
    "df_rfm['f_score'] = pd.cut(df_rfm['frequency'],bins=bin_edges,labels=[1,2,3,4,5])\n",
    "\n",
    "df_rfm['m_score'] = pd.qcut(df_rfm['monetary'],5,labels=[1,2,3,4,5])"
   ]
  },
  {
   "cell_type": "code",
   "execution_count": 29,
   "id": "8b703a66-caa0-4242-ae20-0b4032d939fd",
   "metadata": {},
   "outputs": [],
   "source": [
    "df_rfm['r_score'] = df_rfm['r_score'].astype('int')\n",
    "df_rfm['f_score'] = df_rfm['f_score'].astype('int')\n",
    "df_rfm['m_score'] = df_rfm['m_score'].astype('int')"
   ]
  },
  {
   "cell_type": "code",
   "execution_count": 30,
   "id": "f0f87179-dd3f-4aa6-808b-30a39de6f3b7",
   "metadata": {},
   "outputs": [],
   "source": [
    "df_rfm['rfm_score'] = df_rfm['r_score'] + df_rfm['f_score'] + df_rfm['m_score']"
   ]
  },
  {
   "cell_type": "code",
   "execution_count": 31,
   "id": "d86e6135-19ed-499b-8684-efc7851fb3b0",
   "metadata": {},
   "outputs": [],
   "source": [
    "bins = [2.9, 6, 9, 12, 15.1] \n",
    "labels = ['At Risk', 'Needs Attention', 'Loyal Customers', 'Champions']\n",
    "\n",
    "df_rfm['segment'] = pd.cut(df_rfm['rfm_score'], bins=bins, labels=labels)"
   ]
  },
  {
   "cell_type": "code",
   "execution_count": 32,
   "id": "de79a4d5-e078-4c03-8ed5-65cf7117f0ac",
   "metadata": {},
   "outputs": [
    {
     "data": {
      "text/plain": [
       "At Risk            1985\n",
       "Needs Attention    1584\n",
       "Loyal Customers    1348\n",
       "Champions           961\n",
       "Name: segment, dtype: int64"
      ]
     },
     "execution_count": 32,
     "metadata": {},
     "output_type": "execute_result"
    }
   ],
   "source": [
    "df_rfm['segment'].value_counts(dropna=False)"
   ]
  },
  {
   "cell_type": "markdown",
   "id": "3886fa2b-2b26-4772-afe8-ff1265279a30",
   "metadata": {},
   "source": [
    "## Segment Profiles\n"
   ]
  },
  {
   "cell_type": "code",
   "execution_count": 33,
   "id": "f964cf2a-a7e4-432c-a473-8e0b2e8887d1",
   "metadata": {},
   "outputs": [
    {
     "data": {
      "image/png": "[encoded data removed]",
      "text/plain": [
       "<Figure size 600x400 with 1 Axes>"
      ]
     },
     "metadata": {},
     "output_type": "display_data"
    }
   ],
   "source": [
    "plt.figure(figsize=(6, 4))\n",
    "df_rfm['segment'].value_counts().plot(kind='bar', color='skyblue')\n",
    "plt.xlabel('Customer Segment')\n",
    "plt.ylabel('Number of Customers')\n",
    "plt.title('Distribution of Customers Across RFM Categories')\n",
    "plt.xticks(rotation=45)\n",
    "plt.grid(axis='y', linestyle='--', alpha=0.4)\n",
    "plt.show()"
   ]
  },
  {
   "cell_type": "code",
   "execution_count": 34,
   "id": "db65972f-04fc-4a1f-abcb-0e08750f906c",
   "metadata": {},
   "outputs": [
    {
     "data": {
      "text/html": [
       "<div>\n",
       "<style scoped>\n",
       "    .dataframe tbody tr th:only-of-type {\n",
       "        vertical-align: middle;\n",
       "    }\n",
       "\n",
       "    .dataframe tbody tr th {\n",
       "        vertical-align: top;\n",
       "    }\n",
       "\n",
       "    .dataframe thead tr th {\n",
       "        text-align: left;\n",
       "    }\n",
       "</style>\n",
       "<table border=\"1\" class=\"dataframe\">\n",
       "  <thead>\n",
       "    <tr>\n",
       "      <th></th>\n",
       "      <th>segment</th>\n",
       "      <th colspan=\"3\" halign=\"left\">recency</th>\n",
       "      <th colspan=\"3\" halign=\"left\">frequency</th>\n",
       "      <th colspan=\"3\" halign=\"left\">monetary</th>\n",
       "    </tr>\n",
       "    <tr>\n",
       "      <th></th>\n",
       "      <th></th>\n",
       "      <th>mean</th>\n",
       "      <th>max</th>\n",
       "      <th>min</th>\n",
       "      <th>mean</th>\n",
       "      <th>min</th>\n",
       "      <th>max</th>\n",
       "      <th>mean</th>\n",
       "      <th>min</th>\n",
       "      <th>max</th>\n",
       "    </tr>\n",
       "  </thead>\n",
       "  <tbody>\n",
       "    <tr>\n",
       "      <th>0</th>\n",
       "      <td>At Risk</td>\n",
       "      <td>398.00</td>\n",
       "      <td>739</td>\n",
       "      <td>20</td>\n",
       "      <td>1.36</td>\n",
       "      <td>1</td>\n",
       "      <td>8</td>\n",
       "      <td>326.97</td>\n",
       "      <td>2.95</td>\n",
       "      <td>2803.20</td>\n",
       "    </tr>\n",
       "    <tr>\n",
       "      <th>1</th>\n",
       "      <td>Needs Attention</td>\n",
       "      <td>176.40</td>\n",
       "      <td>692</td>\n",
       "      <td>1</td>\n",
       "      <td>3.08</td>\n",
       "      <td>1</td>\n",
       "      <td>15</td>\n",
       "      <td>1058.18</td>\n",
       "      <td>30.95</td>\n",
       "      <td>44534.30</td>\n",
       "    </tr>\n",
       "    <tr>\n",
       "      <th>2</th>\n",
       "      <td>Loyal Customers</td>\n",
       "      <td>69.88</td>\n",
       "      <td>576</td>\n",
       "      <td>1</td>\n",
       "      <td>6.51</td>\n",
       "      <td>1</td>\n",
       "      <td>155</td>\n",
       "      <td>2788.86</td>\n",
       "      <td>303.09</td>\n",
       "      <td>168472.50</td>\n",
       "    </tr>\n",
       "    <tr>\n",
       "      <th>3</th>\n",
       "      <td>Champions</td>\n",
       "      <td>20.58</td>\n",
       "      <td>176</td>\n",
       "      <td>1</td>\n",
       "      <td>21.45</td>\n",
       "      <td>4</td>\n",
       "      <td>398</td>\n",
       "      <td>12132.00</td>\n",
       "      <td>1258.97</td>\n",
       "      <td>608821.65</td>\n",
       "    </tr>\n",
       "  </tbody>\n",
       "</table>\n",
       "</div>"
      ],
      "text/plain": [
       "           segment recency          frequency          monetary          \\\n",
       "                      mean  max min      mean min  max     mean     min   \n",
       "0          At Risk  398.00  739  20      1.36   1    8   326.97    2.95   \n",
       "1  Needs Attention  176.40  692   1      3.08   1   15  1058.18   30.95   \n",
       "2  Loyal Customers   69.88  576   1      6.51   1  155  2788.86  303.09   \n",
       "3        Champions   20.58  176   1     21.45   4  398 12132.00 1258.97   \n",
       "\n",
       "             \n",
       "        max  \n",
       "0   2803.20  \n",
       "1  44534.30  \n",
       "2 168472.50  \n",
       "3 608821.65  "
      ]
     },
     "execution_count": 34,
     "metadata": {},
     "output_type": "execute_result"
    }
   ],
   "source": [
    "segment_stats = df_rfm.groupby('segment').agg({'recency':['mean','max','min'],\n",
    "                                               'frequency':['mean','min','max'],\n",
    "                                               'monetary':['mean','min','max']}).reset_index()\n",
    "segment_stats"
   ]
  },
  {
   "cell_type": "code",
   "execution_count": 35,
   "id": "6ff070a6-2ec1-4b74-8d8e-ff59aacb2ad1",
   "metadata": {},
   "outputs": [],
   "source": [
    "segment_stats.columns = ['segment', 'recency_mean','recency_max','recency_min',\n",
    "                         'frequency_mean','frequency_min', 'frequency_max',\n",
    "                         'monetary_mean','monetary_min','monetary_max']"
   ]
  },
  {
   "cell_type": "code",
   "execution_count": 36,
   "id": "94e19c4f-791e-490f-9ecc-dd110cd2cf66",
   "metadata": {},
   "outputs": [
    {
     "data": {
      "text/html": [
       "<div>\n",
       "<style scoped>\n",
       "    .dataframe tbody tr th:only-of-type {\n",
       "        vertical-align: middle;\n",
       "    }\n",
       "\n",
       "    .dataframe tbody tr th {\n",
       "        vertical-align: top;\n",
       "    }\n",
       "\n",
       "    .dataframe thead th {\n",
       "        text-align: right;\n",
       "    }\n",
       "</style>\n",
       "<table border=\"1\" class=\"dataframe\">\n",
       "  <thead>\n",
       "    <tr style=\"text-align: right;\">\n",
       "      <th></th>\n",
       "      <th>segment</th>\n",
       "      <th>recency_mean</th>\n",
       "      <th>recency_max</th>\n",
       "      <th>recency_min</th>\n",
       "      <th>frequency_mean</th>\n",
       "      <th>frequency_min</th>\n",
       "      <th>frequency_max</th>\n",
       "      <th>monetary_mean</th>\n",
       "      <th>monetary_min</th>\n",
       "      <th>monetary_max</th>\n",
       "    </tr>\n",
       "  </thead>\n",
       "  <tbody>\n",
       "    <tr>\n",
       "      <th>0</th>\n",
       "      <td>At Risk</td>\n",
       "      <td>398.00</td>\n",
       "      <td>739</td>\n",
       "      <td>20</td>\n",
       "      <td>1.36</td>\n",
       "      <td>1</td>\n",
       "      <td>8</td>\n",
       "      <td>326.97</td>\n",
       "      <td>2.95</td>\n",
       "      <td>2803.20</td>\n",
       "    </tr>\n",
       "    <tr>\n",
       "      <th>1</th>\n",
       "      <td>Needs Attention</td>\n",
       "      <td>176.40</td>\n",
       "      <td>692</td>\n",
       "      <td>1</td>\n",
       "      <td>3.08</td>\n",
       "      <td>1</td>\n",
       "      <td>15</td>\n",
       "      <td>1058.18</td>\n",
       "      <td>30.95</td>\n",
       "      <td>44534.30</td>\n",
       "    </tr>\n",
       "    <tr>\n",
       "      <th>2</th>\n",
       "      <td>Loyal Customers</td>\n",
       "      <td>69.88</td>\n",
       "      <td>576</td>\n",
       "      <td>1</td>\n",
       "      <td>6.51</td>\n",
       "      <td>1</td>\n",
       "      <td>155</td>\n",
       "      <td>2788.86</td>\n",
       "      <td>303.09</td>\n",
       "      <td>168472.50</td>\n",
       "    </tr>\n",
       "    <tr>\n",
       "      <th>3</th>\n",
       "      <td>Champions</td>\n",
       "      <td>20.58</td>\n",
       "      <td>176</td>\n",
       "      <td>1</td>\n",
       "      <td>21.45</td>\n",
       "      <td>4</td>\n",
       "      <td>398</td>\n",
       "      <td>12132.00</td>\n",
       "      <td>1258.97</td>\n",
       "      <td>608821.65</td>\n",
       "    </tr>\n",
       "  </tbody>\n",
       "</table>\n",
       "</div>"
      ],
      "text/plain": [
       "           segment  recency_mean  recency_max  recency_min  frequency_mean  \\\n",
       "0          At Risk        398.00          739           20            1.36   \n",
       "1  Needs Attention        176.40          692            1            3.08   \n",
       "2  Loyal Customers         69.88          576            1            6.51   \n",
       "3        Champions         20.58          176            1           21.45   \n",
       "\n",
       "   frequency_min  frequency_max  monetary_mean  monetary_min  monetary_max  \n",
       "0              1              8         326.97          2.95       2803.20  \n",
       "1              1             15        1058.18         30.95      44534.30  \n",
       "2              1            155        2788.86        303.09     168472.50  \n",
       "3              4            398       12132.00       1258.97     608821.65  "
      ]
     },
     "execution_count": 36,
     "metadata": {},
     "output_type": "execute_result"
    }
   ],
   "source": [
    "segment_stats"
   ]
  },
  {
   "cell_type": "markdown",
   "id": "6fe01e8f-9868-4d24-aa42-0bd776166b4a",
   "metadata": {},
   "source": [
    "## Segment Insights\n",
    "\n",
    "**Key Findings**\n",
    "\n",
    "- `At Risk:` Customers in this group made their last purchase on average 346 days ago, approximately 1 year. Maximum recency of 738 days shows that, some of the customers haven't engaged for over two years. These customers make very few purchases (average 1.47 Times). Average spending is quite low (£378.44) compared to other segments with some spendings as little as 3.75.\n",
    "    - **Strategy:** Focus on re-engagement strategies like win-back campaigns or special offers to bring them back.\n",
    "- `Champions`: Extremely high average spendings(£12,132) with some customers as high as £600K. On average customers in this group make 4 purchases, quite often compared to other groups and their last purchases are quite recent (average 20.58 Days)\n",
    "  - **Strategy:** Provide exclusive benefits to sustain and enhance their loyalty. "
   ]
  },
  {
   "cell_type": "markdown",
   "id": "f4f5da30-33cc-4859-868f-181990b65532",
   "metadata": {},
   "source": [
    "## Export Data for Visualization with Tableau"
   ]
  },
  {
   "cell_type": "code",
   "execution_count": 37,
   "id": "24b12014-07c9-4313-a122-25cae99374c9",
   "metadata": {},
   "outputs": [],
   "source": [
    "df_compl = df_compl.merge(df_rfm[['customerid','segment']], on='customerid',how='left')"
   ]
  },
  {
   "cell_type": "code",
   "execution_count": 38,
   "id": "5f40991c-4402-4b0b-9e0f-b9dfef3be6d1",
   "metadata": {},
   "outputs": [],
   "source": [
    "df_compl.to_csv(r\"C:\\Users\\aykut\\data_analytics_projects\\customer_segmentation_analysis\\data\\df_compl_with_segments.csv\")"
   ]
  },
  {
   "cell_type": "code",
   "execution_count": 39,
   "id": "e62ab446-ad63-427d-b62d-b25a59dfc868",
   "metadata": {},
   "outputs": [],
   "source": [
    "df_cancelled_merged = df_cancelled.merge(df_rfm[['customerid', 'segment']], on='customerid', how='left')"
   ]
  },
  {
   "cell_type": "code",
   "execution_count": 40,
   "id": "3a12962d-b1d0-476f-986a-124137e06f88",
   "metadata": {},
   "outputs": [],
   "source": [
    "df_cancelled_merged.to_csv(r\"C:\\Users\\aykut\\data_analytics_projects\\customer_segmentation_analysis\\data\\df_cancelled_with_segments.csv\")"
   ]
  },
  {
   "cell_type": "code",
   "execution_count": 41,
   "id": "60f12492-7c48-43d6-8383-547b4fc2de17",
   "metadata": {},
   "outputs": [],
   "source": [
    "df_rfm.to_csv(r\"C:\\Users\\aykut\\data_analytics_projects\\customer_segmentation_analysis\\data\\df_rfm.csv\")"
   ]
  }
 ],
 "metadata": {
  "kernelspec": {
   "display_name": "Python 3 (ipykernel)",
   "language": "python",
   "name": "python3"
  },
  "language_info": {
   "codemirror_mode": {
    "name": "ipython",
    "version": 3
   },
   "file_extension": ".py",
   "mimetype": "text/x-python",
   "name": "python",
   "nbconvert_exporter": "python",
   "pygments_lexer": "ipython3",
   "version": "3.9.19"
  },
  "toc": {
   "base_numbering": 1,
   "nav_menu": {},
   "number_sections": true,
   "sideBar": true,
   "skip_h1_title": false,
   "title_cell": "Table of Contents",
   "title_sidebar": "Contents",
   "toc_cell": false,
   "toc_position": {},
   "toc_section_display": true,
   "toc_window_display": false
  }
 },
 "nbformat": 4,
 "nbformat_minor": 5
}
