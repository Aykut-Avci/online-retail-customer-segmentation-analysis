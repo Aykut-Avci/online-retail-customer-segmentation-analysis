{
 "cells": [
  {
   "cell_type": "markdown",
   "id": "3acbfe89",
   "metadata": {},
   "source": [
    "# Customer Segmentation Preprocessing \n",
    "\n",
    "This notebook is used for reading excel files, and conversion to a csv file. These tasks are run only once to optimize data access efficiency.\n",
    "\n",
    "## Loading Libraries"
   ]
  },
  {
   "cell_type": "code",
   "execution_count": 1,
   "id": "78892ea7",
   "metadata": {},
   "outputs": [],
   "source": [
    "import pandas as pd"
   ]
  },
  {
   "cell_type": "code",
   "execution_count": 2,
   "id": "b1e5fd24",
   "metadata": {},
   "outputs": [],
   "source": [
    "#Load excel file\n",
    "file_path = r\"C:\\Users\\aykut\\data_analytics_projects\\customer_segmentation_analysis\\data\\online_retail_II.xlsx\"\n",
    "xls = pd.ExcelFile(file_path)\n",
    "#Load the data from each sheet\n",
    "df_2009_2010 = pd.read_excel(xls, sheet_name='Year 2009-2010')\n",
    "df_2010_2011 = pd.read_excel(xls, sheet_name='Year 2010-2011')\n",
    "#Combine dataframes \n",
    "df = pd.concat([df_2009_2010, df_2010_2011], ignore_index=True)\n",
    "\n",
    "#Save as csv file\n",
    "df.to_csv(r'C:\\Users\\aykut\\data_analytics_projects\\customer_segmentation_analysis\\data\\online_retail_II.csv',index=False)"
   ]
  },
  {
   "cell_type": "code",
   "execution_count": null,
   "id": "29a8e32d-4174-462c-8f41-6373772a19ea",
   "metadata": {},
   "outputs": [],
   "source": []
  }
 ],
 "metadata": {
  "kernelspec": {
   "display_name": "Python 3 (ipykernel)",
   "language": "python",
   "name": "python3"
  },
  "language_info": {
   "codemirror_mode": {
    "name": "ipython",
    "version": 3
   },
   "file_extension": ".py",
   "mimetype": "text/x-python",
   "name": "python",
   "nbconvert_exporter": "python",
   "pygments_lexer": "ipython3",
   "version": "3.9.19"
  },
  "toc": {
   "base_numbering": 1,
   "nav_menu": {},
   "number_sections": true,
   "sideBar": true,
   "skip_h1_title": false,
   "title_cell": "Table of Contents",
   "title_sidebar": "Contents",
   "toc_cell": false,
   "toc_position": {},
   "toc_section_display": true,
   "toc_window_display": false
  }
 },
 "nbformat": 4,
 "nbformat_minor": 5
}
